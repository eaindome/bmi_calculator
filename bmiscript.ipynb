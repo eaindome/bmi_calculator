{
 "cells": [
  {
   "cell_type": "code",
   "execution_count": null,
   "id": "7844dced",
   "metadata": {},
   "outputs": [],
   "source": [
    "print(\"A Program to canlculate BMI of an individual\")\n",
    "name = input(\"Enter your name: \")\n",
    "weight = float(input(\"Enter your weight in pounds: \"))\n",
    "height = float(input(\"Enter your height in inches: \"))\n",
    "\n",
    "def BMI(weight, height):\n",
    "    bmi = weight / (height ** 2) * 703\n",
    "\n",
    "    if (bmi < 16):\n",
    "        return 'severely underweight', bmi\n",
    "    elif (bmi >= 16 and bmi < 18.5):\n",
    "        return 'underweight', bmi\n",
    "    elif (bmi >= 18.5 and bmi < 25):\n",
    "        return 'healthy', bmi\n",
    "    elif (bmi >= 25 and bmi < 30):\n",
    "        return 'overweight', bmi\n",
    "    elif (bmi >= 30):\n",
    "        return 'obese', bmi\n",
    "\n",
    "quote, bmi = BMI(weight, height)\n",
    "print('your bmi is: {} and your are: {}'.format(bmi, quote)) "
   ]
  },
  {
   "cell_type": "code",
   "execution_count": null,
   "id": "73edf745",
   "metadata": {},
   "outputs": [],
   "source": []
  }
 ],
 "metadata": {
  "kernelspec": {
   "display_name": "Python 3",
   "language": "python",
   "name": "python3"
  },
  "language_info": {
   "codemirror_mode": {
    "name": "ipython",
    "version": 3
   },
   "file_extension": ".py",
   "mimetype": "text/x-python",
   "name": "python",
   "nbconvert_exporter": "python",
   "pygments_lexer": "ipython3",
   "version": "3.8.8"
  }
 },
 "nbformat": 4,
 "nbformat_minor": 5
}
